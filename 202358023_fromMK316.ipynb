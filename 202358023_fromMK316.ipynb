{
  "nbformat": 4,
  "nbformat_minor": 0,
  "metadata": {
    "colab": {
      "provenance": [],
      "include_colab_link": true
    },
    "kernelspec": {
      "name": "python3",
      "display_name": "Python 3"
    },
    "language_info": {
      "name": "python"
    }
  },
  "cells": [
    {
      "cell_type": "markdown",
      "metadata": {
        "id": "view-in-github",
        "colab_type": "text"
      },
      "source": [
        "<a href=\"https://colab.research.google.com/github/JEH0124/Midterm_24/blob/main/202358023_fromMK316.ipynb\" target=\"_parent\"><img src=\"https://colab.research.google.com/assets/colab-badge.svg\" alt=\"Open In Colab\"/></a>"
      ]
    },
    {
      "cell_type": "markdown",
      "source": [
        "#🌀Midterm 2024: Jeongeun Han (202358023)"
      ],
      "metadata": {
        "id": "d87Y0NiMviaY"
      }
    },
    {
      "cell_type": "markdown",
      "source": [
        "##Variable Question"
      ],
      "metadata": {
        "id": "laj5IHdhwIaK"
      }
    },
    {
      "cell_type": "code",
      "source": [
        "#Mary, 1998, Ohio; and John, 1999, Boston\n",
        "x = input(\"name:\"); y = input(\"born in:\"); z = input(\"hometown:\")\n",
        "print(f\"Hello, my name is {x}. I was born in {y}, and I'm from {z}. Nice to meet you.\")"
      ],
      "metadata": {
        "colab": {
          "base_uri": "https://localhost:8080/"
        },
        "id": "Vb_kQuYDwZFx",
        "outputId": "2c5a9cfc-da82-4807-ce36-64ebb0867157"
      },
      "execution_count": 2,
      "outputs": [
        {
          "output_type": "stream",
          "name": "stdout",
          "text": [
            "name:MK316\n",
            "born in:1990\n",
            "hometown:Seoul\n",
            "Hello, my name is MK316. I was born in 1990, and I'm from Seoul. Nice to meet you.\n"
          ]
        }
      ]
    },
    {
      "cell_type": "markdown",
      "source": [
        "##Name Question"
      ],
      "metadata": {
        "id": "CjxiQDmtz8m2"
      }
    },
    {
      "cell_type": "code",
      "source": [
        "#Name question\n",
        "x = \"My name is\"\n",
        "y = \"your name\"\n",
        "print(x, y)"
      ],
      "metadata": {
        "colab": {
          "base_uri": "https://localhost:8080/"
        },
        "id": "WytnNP940FzN",
        "outputId": "3dce77db-aa66-4594-9234-88cc8470b853"
      },
      "execution_count": 3,
      "outputs": [
        {
          "output_type": "stream",
          "name": "stdout",
          "text": [
            "My name is your name\n"
          ]
        }
      ]
    },
    {
      "cell_type": "markdown",
      "source": [
        "## 😍Comment on the above code\n",
        "\n",
        "Use input() to get your name, as shown below. See what's better in this way."
      ],
      "metadata": {
        "id": "Be4z1UtNhLXk"
      }
    },
    {
      "cell_type": "code",
      "source": [
        "#Name question\n",
        "x = \"My name is\"\n",
        "y = input()\n",
        "print(x, y)"
      ],
      "metadata": {
        "id": "ONiZW51rhVYS",
        "outputId": "0afb110a-892e-4816-9774-96c5d015189e",
        "colab": {
          "base_uri": "https://localhost:8080/"
        }
      },
      "execution_count": 4,
      "outputs": [
        {
          "output_type": "stream",
          "name": "stdout",
          "text": [
            "Mary\n",
            "My name is Mary\n"
          ]
        }
      ]
    },
    {
      "cell_type": "markdown",
      "source": [
        "##Index Question"
      ],
      "metadata": {
        "id": "xmsQs5L51spO"
      }
    },
    {
      "cell_type": "code",
      "source": [
        "# Dropdown\n",
        "\n",
        "cardinal_number = \"1\" #@param = [\"1\",\"2\",\"3\",\"4\"]\n",
        "\n",
        "# Add one line of code below\n",
        "cardinal_number = int(cardinal_number)\n",
        "\n",
        "# Ordinal expression as a list\n",
        "\n",
        "words = [\"Zero\", \"First\", \"Second\", \"Third\",\"Fourth\"]\n",
        "\n",
        "print(\"The ordinal expression:\", words[cardinal_number])"
      ],
      "metadata": {
        "colab": {
          "base_uri": "https://localhost:8080/"
        },
        "id": "Bp8EquEy1vJy",
        "outputId": "771fc174-72e9-4fd7-a242-5af9df729855"
      },
      "execution_count": 7,
      "outputs": [
        {
          "output_type": "stream",
          "name": "stdout",
          "text": [
            "The ordinal expression: First\n"
          ]
        }
      ]
    },
    {
      "cell_type": "markdown",
      "source": [
        "## 😍😍😍😍😍 Smart :-))\n",
        "\n",
        "You've changed the words. However, if we can't change the list, here's what you can do.\n",
        "\n",
        "```\n",
        "print(words[cardinal_number-1])\n",
        "```\n",
        "\n",
        "Since Python starts with 0, you can do minus 1 for the cardinal_number."
      ],
      "metadata": {
        "id": "HOHaJkw4iRC6"
      }
    },
    {
      "cell_type": "markdown",
      "source": [
        "##GTTS Question (😍 Goog job!)"
      ],
      "metadata": {
        "id": "dEOP-N5T3tcU"
      }
    },
    {
      "cell_type": "code",
      "source": [
        "# First, install the gTTS library if you haven't already\n",
        "!pip install gTTS\n",
        "\n",
        "# Import the gTTS library\n",
        "from gtts import gTTS\n",
        "\n",
        "# Import IPython display module\n",
        "from IPython.display import Audio, display"
      ],
      "metadata": {
        "colab": {
          "base_uri": "https://localhost:8080/"
        },
        "id": "RyHaI8mQ3wXd",
        "outputId": "a4498fe0-5ead-4cdb-cc72-b89fe3e03724"
      },
      "execution_count": 8,
      "outputs": [
        {
          "output_type": "stream",
          "name": "stdout",
          "text": [
            "Collecting gTTS\n",
            "  Downloading gTTS-2.5.1-py3-none-any.whl (29 kB)\n",
            "Requirement already satisfied: requests<3,>=2.27 in /usr/local/lib/python3.10/dist-packages (from gTTS) (2.31.0)\n",
            "Requirement already satisfied: click<8.2,>=7.1 in /usr/local/lib/python3.10/dist-packages (from gTTS) (8.1.7)\n",
            "Requirement already satisfied: charset-normalizer<4,>=2 in /usr/local/lib/python3.10/dist-packages (from requests<3,>=2.27->gTTS) (3.3.2)\n",
            "Requirement already satisfied: idna<4,>=2.5 in /usr/local/lib/python3.10/dist-packages (from requests<3,>=2.27->gTTS) (3.7)\n",
            "Requirement already satisfied: urllib3<3,>=1.21.1 in /usr/local/lib/python3.10/dist-packages (from requests<3,>=2.27->gTTS) (2.0.7)\n",
            "Requirement already satisfied: certifi>=2017.4.17 in /usr/local/lib/python3.10/dist-packages (from requests<3,>=2.27->gTTS) (2024.2.2)\n",
            "Installing collected packages: gTTS\n",
            "Successfully installed gTTS-2.5.1\n"
          ]
        }
      ]
    },
    {
      "cell_type": "code",
      "source": [
        "# Text to be converted to speech\n",
        "text = input()\n",
        "\n",
        "# Language in which you want to convert\n",
        "language = 'en'\n",
        "\n",
        "# Pass the text and language to the gTTS module\n",
        "speech = gTTS(text = text, lang = language, slow = False)\n",
        "\n",
        "# Save the converted audio file\n",
        "speech.save(\"output.mp3\")\n",
        "\n",
        "# Display the audio directly in the notebook\n",
        "display(Audio(\"output.mp3\", autoplay=True))"
      ],
      "metadata": {
        "colab": {
          "base_uri": "https://localhost:8080/",
          "height": 92
        },
        "id": "q89nj_Gh5e6C",
        "outputId": "bd5842e6-ef9e-4e7d-cad4-81f08d2b465c"
      },
      "execution_count": 10,
      "outputs": [
        {
          "name": "stdout",
          "output_type": "stream",
          "text": [
            "This code works fine :-)\n"
          ]
        },
        {
          "output_type": "display_data",
          "data": {
            "text/plain": [
              "<IPython.lib.display.Audio object>"
            ],
            "text/html": [
              "\n",
              "                <audio  controls=\"controls\" autoplay=\"autoplay\">\n",
              "                    <source src=\"data:audio/mpeg;base64,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\" type=\"audio/mpeg\" />\n",
              "                    Your browser does not support the audio element.\n",
              "                </audio>\n",
              "              "
            ]
          },
          "metadata": {}
        }
      ]
    },
    {
      "cell_type": "markdown",
      "source": [
        "##Dictation Question"
      ],
      "metadata": {
        "id": "O_5gMBhK6OMN"
      }
    },
    {
      "cell_type": "code",
      "source": [
        "grades = {\"name\": \"Bob\", \"grade\": \"80\" }\n",
        "grade = grades[\"grade\"]\n",
        "print(grade)"
      ],
      "metadata": {
        "id": "5nIuk89Q6RAS",
        "outputId": "e22943ea-439b-4155-add6-62062aefa012",
        "colab": {
          "base_uri": "https://localhost:8080/"
        }
      },
      "execution_count": 11,
      "outputs": [
        {
          "output_type": "stream",
          "name": "stdout",
          "text": [
            "80\n"
          ]
        }
      ]
    },
    {
      "cell_type": "markdown",
      "source": [
        "=> 😍 Yes, it works basically in this way. However, let's get the answer as instructed. (see the code below)"
      ],
      "metadata": {
        "id": "cSbI2H6skMse"
      }
    },
    {
      "cell_type": "code",
      "source": [
        "grades = {\"Bob\": 80, \"Mary\": \"90\", \"Jane\": 70 }\n",
        "print(grades[\"Bob\"])"
      ],
      "metadata": {
        "id": "6F55Y7MFkHdT",
        "outputId": "c9ecf660-dccb-4fcf-f011-9762c67cc61b",
        "colab": {
          "base_uri": "https://localhost:8080/"
        }
      },
      "execution_count": 12,
      "outputs": [
        {
          "output_type": "stream",
          "name": "stdout",
          "text": [
            "80\n"
          ]
        }
      ]
    },
    {
      "cell_type": "markdown",
      "source": [
        "##Function Question (😍 Goog job)"
      ],
      "metadata": {
        "id": "yzk_Zl0z7ugQ"
      }
    },
    {
      "cell_type": "code",
      "source": [
        "# Define a function for multiplication\n",
        "def divide(x, y):\n",
        "    return x / y\n",
        "\n",
        "# Test the function\n",
        "result = divide(20, 4)\n",
        "print(\"The result of division is:\", result)"
      ],
      "metadata": {
        "id": "jTH14C3q7wdT",
        "outputId": "813ce74e-e734-4592-9b40-dbf8b2cce586",
        "colab": {
          "base_uri": "https://localhost:8080/"
        }
      },
      "execution_count": 13,
      "outputs": [
        {
          "output_type": "stream",
          "name": "stdout",
          "text": [
            "The result of division is: 5.0\n"
          ]
        }
      ]
    },
    {
      "cell_type": "markdown",
      "source": [
        "##Audio Question"
      ],
      "metadata": {
        "id": "zY4CEFFV8fcP"
      }
    },
    {
      "cell_type": "code",
      "source": [
        "# First, install the gTTS library if you haven't already\n",
        "!pip install gTTS\n",
        "\n",
        "# Import the gTTS library\n",
        "from gtts import gTTS\n",
        "\n",
        "# Import IPython display module\n",
        "from IPython.display import Audio, display"
      ],
      "metadata": {
        "id": "tv1lpWMF8h66",
        "outputId": "fbdbd09f-a9e0-4014-8217-ebe9fe63a23a",
        "colab": {
          "base_uri": "https://localhost:8080/"
        }
      },
      "execution_count": 14,
      "outputs": [
        {
          "output_type": "stream",
          "name": "stdout",
          "text": [
            "Requirement already satisfied: gTTS in /usr/local/lib/python3.10/dist-packages (2.5.1)\n",
            "Requirement already satisfied: requests<3,>=2.27 in /usr/local/lib/python3.10/dist-packages (from gTTS) (2.31.0)\n",
            "Requirement already satisfied: click<8.2,>=7.1 in /usr/local/lib/python3.10/dist-packages (from gTTS) (8.1.7)\n",
            "Requirement already satisfied: charset-normalizer<4,>=2 in /usr/local/lib/python3.10/dist-packages (from requests<3,>=2.27->gTTS) (3.3.2)\n",
            "Requirement already satisfied: idna<4,>=2.5 in /usr/local/lib/python3.10/dist-packages (from requests<3,>=2.27->gTTS) (3.7)\n",
            "Requirement already satisfied: urllib3<3,>=1.21.1 in /usr/local/lib/python3.10/dist-packages (from requests<3,>=2.27->gTTS) (2.0.7)\n",
            "Requirement already satisfied: certifi>=2017.4.17 in /usr/local/lib/python3.10/dist-packages (from requests<3,>=2.27->gTTS) (2024.2.2)\n"
          ]
        }
      ]
    },
    {
      "cell_type": "markdown",
      "source": [
        "😍 You need to install 'gradio' package\n",
        "\n",
        "Add a code before you import gradio as gr. Now you'll see the code runs without an error.\n",
        "```\n",
        "!pip install gradio\n",
        "```"
      ],
      "metadata": {
        "id": "2xny_3H6k_Y1"
      }
    },
    {
      "cell_type": "code",
      "source": [
        "!pip install gradio"
      ],
      "metadata": {
        "id": "OQsyzRehlT42"
      },
      "execution_count": null,
      "outputs": []
    },
    {
      "cell_type": "code",
      "source": [
        "import gradio as gr\n",
        "from gtts import gTTS\n",
        "import os\n",
        "\n",
        "def text_to_speech(text, language):\n",
        "    lang_code = 'en' if language == \"English\" else 'ko'\n",
        "    tts = gTTS(text=text, lang=lang_code, slow=False)\n",
        "    tts.save(\"output.mp3\")\n",
        "    return \"output.mp3\"\n",
        "\n",
        "interface = gr.Interface(\n",
        "    fn=text_to_speech,\n",
        "    inputs=[\n",
        "        gr.Textbox(lines=3, label=\"Enter text\"),\n",
        "        gr.Radio(choices=[\"English\", \"Korean\"], label=\"Select language\")\n",
        "    ],\n",
        "    outputs=gr.Audio(type=\"filepath\", label=\"Audio\"),\n",
        "    title=\"Text-to-Speech\",\n",
        "    description=\"Type in some text, select a language, and generate audio.\",\n",
        ")\n",
        "\n",
        "interface.launch()"
      ],
      "metadata": {
        "id": "vAEC1Yno_wIO",
        "outputId": "a8bd17ab-29ac-4f1f-ae6e-6377dbfaf642",
        "colab": {
          "base_uri": "https://localhost:8080/",
          "height": 631
        }
      },
      "execution_count": 17,
      "outputs": [
        {
          "output_type": "stream",
          "name": "stdout",
          "text": [
            "Setting queue=True in a Colab notebook requires sharing enabled. Setting `share=True` (you can turn this off by setting `share=False` in `launch()` explicitly).\n",
            "\n",
            "Colab notebook detected. To show errors in colab notebook, set debug=True in launch()\n",
            "Running on public URL: https://dbcc245131c50d638e.gradio.live\n",
            "\n",
            "This share link expires in 72 hours. For free permanent hosting and GPU upgrades, run `gradio deploy` from Terminal to deploy to Spaces (https://huggingface.co/spaces)\n"
          ]
        },
        {
          "output_type": "display_data",
          "data": {
            "text/plain": [
              "<IPython.core.display.HTML object>"
            ],
            "text/html": [
              "<div><iframe src=\"https://dbcc245131c50d638e.gradio.live\" width=\"100%\" height=\"500\" allow=\"autoplay; camera; microphone; clipboard-read; clipboard-write;\" frameborder=\"0\" allowfullscreen></iframe></div>"
            ]
          },
          "metadata": {}
        },
        {
          "output_type": "execute_result",
          "data": {
            "text/plain": []
          },
          "metadata": {},
          "execution_count": 17
        }
      ]
    },
    {
      "cell_type": "markdown",
      "source": [
        "---\n",
        "The End 😍 Good job!"
      ],
      "metadata": {
        "id": "RBRwGLLQlk4S"
      }
    }
  ]
}