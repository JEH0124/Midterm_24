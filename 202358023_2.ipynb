{
  "nbformat": 4,
  "nbformat_minor": 0,
  "metadata": {
    "colab": {
      "provenance": [],
      "authorship_tag": "ABX9TyN3zfwgCkJaHCO2TcnSWcsg",
      "include_colab_link": true
    },
    "kernelspec": {
      "name": "python3",
      "display_name": "Python 3"
    },
    "language_info": {
      "name": "python"
    }
  },
  "cells": [
    {
      "cell_type": "markdown",
      "metadata": {
        "id": "view-in-github",
        "colab_type": "text"
      },
      "source": [
        "<a href=\"https://colab.research.google.com/github/JEH0124/Midterm_24/blob/main/202358023_2.ipynb\" target=\"_parent\"><img src=\"https://colab.research.google.com/assets/colab-badge.svg\" alt=\"Open In Colab\"/></a>"
      ]
    },
    {
      "cell_type": "markdown",
      "source": [],
      "metadata": {
        "id": "Y3ap0nvbwhXX"
      }
    },
    {
      "cell_type": "markdown",
      "source": [
        "##GTTS Question"
      ],
      "metadata": {
        "id": "lSvBCyBAwyGz"
      }
    },
    {
      "cell_type": "code",
      "execution_count": 1,
      "metadata": {
        "colab": {
          "base_uri": "https://localhost:8080/"
        },
        "id": "zURBnPozq-DZ",
        "outputId": "84a54c0c-66de-4d7b-d24b-f8455aa9adf7"
      },
      "outputs": [
        {
          "output_type": "stream",
          "name": "stdout",
          "text": [
            "Collecting gTTS\n",
            "  Downloading gTTS-2.5.1-py3-none-any.whl (29 kB)\n",
            "Requirement already satisfied: requests<3,>=2.27 in /usr/local/lib/python3.10/dist-packages (from gTTS) (2.31.0)\n",
            "Requirement already satisfied: click<8.2,>=7.1 in /usr/local/lib/python3.10/dist-packages (from gTTS) (8.1.7)\n",
            "Requirement already satisfied: charset-normalizer<4,>=2 in /usr/local/lib/python3.10/dist-packages (from requests<3,>=2.27->gTTS) (3.3.2)\n",
            "Requirement already satisfied: idna<4,>=2.5 in /usr/local/lib/python3.10/dist-packages (from requests<3,>=2.27->gTTS) (3.7)\n",
            "Requirement already satisfied: urllib3<3,>=1.21.1 in /usr/local/lib/python3.10/dist-packages (from requests<3,>=2.27->gTTS) (2.0.7)\n",
            "Requirement already satisfied: certifi>=2017.4.17 in /usr/local/lib/python3.10/dist-packages (from requests<3,>=2.27->gTTS) (2024.2.2)\n",
            "Installing collected packages: gTTS\n",
            "Successfully installed gTTS-2.5.1\n"
          ]
        }
      ],
      "source": [
        "# First, install the gTTS library if you haven't already\n",
        "!pip install gTTS\n",
        "\n",
        "# Import the gTTS library\n",
        "from gtts import gTTS\n",
        "\n",
        "# Import IPython display module\n",
        "from IPython.display import Audio, display"
      ]
    },
    {
      "cell_type": "code",
      "source": [
        "# Text to be converted to speech\n",
        "text = input()\n",
        "\n",
        "# Language in which you want to convert\n",
        "language = 'en'\n",
        "\n",
        "# Pass the text and language to the gTTS module\n",
        "speech = gTTS(text = text, lang = language, slow = False)\n",
        "\n",
        "# Save the converted audio file\n",
        "speech.save(\"output.mp3\")\n",
        "\n",
        "# Display the audio directly in the notebook\n",
        "display(Audio(\"output.mp3\", autoplay=True))"
      ],
      "metadata": {
        "colab": {
          "base_uri": "https://localhost:8080/",
          "height": 92
        },
        "id": "RoNenf44rLvb",
        "outputId": "9333f8bc-6d95-45b6-bbaf-ec2c6b145aad"
      },
      "execution_count": 2,
      "outputs": [
        {
          "name": "stdout",
          "output_type": "stream",
          "text": [
            "I have succeeded in this task\n"
          ]
        },
        {
          "output_type": "display_data",
          "data": {
            "text/plain": [
              "<IPython.lib.display.Audio object>"
            ],
            "text/html": [
              "\n",
              "                <audio  controls=\"controls\" autoplay=\"autoplay\">\n",
              "                    <source src=\"data:audio/mpeg;base64,//NExAAP+NUcAUJIAPqc5yZzvnAGOBi3CCA4YMEYJhuQUDERQYXFZPIgFDkDFo50owABoPiA4GAfCwIAAaHxAGGF4If///////ZnylLQJgUoCRkQh4RL9BATmUeaE8ph//NExBMRac6QAZBoAD8HkE14w5vMAWgS4xBN/NKGEXLTMz/odNzyM6svf07dBAvIu61f/b9FigeYc//TCqxcze9paxVMRga6zWKo6qMxOAmVM7QEObQMhVwAWoxLnL+l//NExCAZmTKkAdh4AUQj6LKQ9mENI8pTqTxISbggxcXZlgXJTQ0/UbJfOn7zVfqPf7mvemrUgU05xH7nPADzzNbMejU0egmJ9+BSMEXeW8Pvwz+qz/LFO5PXCV/kRZrY//NExAwVUTKwAMZecNrEZDltPT5uIJL00rnBGACw2ayyVRNEmjiOUoLplhJFOBVAPtBtulyPQhGt5YY/vmBv/xWSJXvos9dafRNRWWdEboDgscs3Soeq5/6pg81XK1NB//NExAkT4R60AMYecHglxZ7mqqW0g7UspjGxXnOUyjyUFTXXSaEsYskiXJWPqEfwsRSQr4SZbFBE2xPNU76O8ieFdg1hiV0E+VOnE1P8ir6X6Fm6w53UfOR3vo8aEqOF//NExAwUqVKsAMZWlKOGfaQRSy/GLSVroYDlvCNOlRf+6sM//+3KF/rOzBdN3sqAPxpcrgsTT7msFE/T7IKX29ElLRO5bv0nNXiuQg02p3WRziS1q81nBAFucSRUtKKl//NExAwTWa6oAMtWlB1lxbGwPYAzARZJkqXioG0lqUUfMn5kPKyKJIo/nX01SAkWHlXCoE9WVFD26assc+M2ri+b/iv4d/93PpD/RUQ9SqmW9PWYWSyV/KWWg0yeUIza//NExBEWaa6gANQWlCmBOBGFiNFOTAkpqu46C11n+pMqMghLLqaXpQbnw+B9KySZmpBikO7XeeLaUczNnTTP76v/r/jr+fq1Wd3FaBGu//su//8XQL25j3XDMLmdybcT//NExAoS4aagANLOlBWeNYsaeygC6zHyGQR/TAnW+R7fNwUDpb6qp+FCgKg+KjpEeEATHZQSWY08fIuUdQmbNTTO+3q3tnFSkNpqbyoulXfq6l4pAdl6ZiwsYQ5nJsRt//NExBEWCRKMAMvecAjKFRBsJmLLlrE9Fp+n7CS7e4bG8nxpjN5VTwIaEC5Kp7IzRnusbtS2K1pCtmE2zamDpBpQ9b+wSh0RDxihkr6j3/////cKKoi91qIg3IJapXam//NExAsT6KqEAMvMTMNkLYcUHD9U4reZ9eSgMFCb5rTLaR1qNIkTlgQvPmVMAwVOgB6nKSBGbnWrLsBATiAPjcRreD935wcD6P+2U8H7FABcxRzcg8AaXi1W0nj6c5+6//NExA4UkoagAECGufb9FegczVSYhOu+7/XBizSu5/vf/0d+CFFuBvvwObmdOuESaIWR2wg44QnM0+gZ9RJ4RCRzT+CIhj3fmPkwcAYb3b4fVT/zj/0X+f/89FE5+/////NExA4UGu6wAAhQuf0tTVV//+vXK8N8SpvjDCruI4uO7HNaIWMLMKUQcTheJYViyxS0er0U+h7wt3JDotjFaqRyIgPKUXqOpDsfVgIfcuq////qf///v/////////6P//NExBARUx60AAhKvKOm9vUrEd2QRKVzLKyqR0vGFcWKIGYSrHzJQgcDqiocMCmO4oPh8XFgDDwuCBAQAMB4iUTF6gP////9f//5///+n////9Nfp7J/eqrpefPPbNOU//NExB0SEyKwAAhOvNPUg4tOJPNJseii0XGj5MwViScKSAlCMQIkSIORFGoPBgalRS41ME4XLqXqP////1//zf////Rf////+v+/p29DKGzFR30alFPU9nd0csPkig4S//NExCcQMx64AAhOvD2QmNSrF2mjpEqE44MTELESIlMMCcHpESh2tTWGBkzZWFvVQth4apAm9GP3//5aMcH///zHIz/////2sf7L/+htVKVl/R9H2exWUqOZWmMa5WMZ//NExDkQyvq4AHhEuZ2DAQEKMKXcqEVV/+evgHVXTAkJFTmnC2w6VCd462X/C+rr5uxsVfR5Lr+2DXgoyi2ArIgMiJsLieGqEjE8pBk9z1GWQQNIUnhsyr/XQLvUhNy///NExEgSKTKwAMPScFKv/4FQMVgrl91ATFRxonrBEnTyLCG+Dg/fJtX9RF/22f7WVZpIZBEMuWAYduZGKoTmoVdGgoHyV2KompLETk56ypKgcSolM0umqpR+n0L9iRb0//NExFISUTasANLScNtYBopt3p6ad7P9Y6y125GrX9VDn/qXl7z+43+silqQWBESxiIQAiVDERBrUwyo0qMfW6n/kqnyNR+KawQAuJjUgGtjoULwgcsIQSK4QFcpiViH//NExFsQGR6UAVhIAKdx2eNjrJx6GqaLGW9Zos+eMjqSh+TdjJIe45w3xPBkLMicOE9dBa2RC6CYFwehqtakrmKlrTSrYuJmbJuitFl17IMg1XTdOtSDFzvZfWpn02t6//NExG0gexJMAZpoAQxcaXE0/V39q//utdXpzd2dA8AYKDKlHQyARD+h7wq2cuWvSIh0dlyXL6ZCJIYy6o9x7m5Jj+SAcofTxkTDZEe5TMxMymQRBg3QvAWpSOjHOS7r//NExD4hKyKAAY9oATNxkGxJGqJl/rdDmp1RmZpvf6++mnTdNAyQmRwz6/83pp0GdmoTIuuYF8ZzZE1RX9Sv+hQMEFILRs79Z0chcNT5usc6mL69CFi9EQSDwixL2c77//NExAwT8w6wAcUoAVKO8rNWl0KylCwOICYbERRW392VfkrVG717////2U/31yMc0553U85idb52O8inOpPRsl1HscXeIBwmdxQ5zh8Pi5ZhHM//T/t7//+yCmDClZbf//NExA8UqxqwABCQvfo/mbqXt8Xyrf//zU8X/8//c031HrVL2VcxrUC1wdyrX7XUrs5kF9lrLH2KDGZBZEuBa8G6Eio8sGosIIdlBMJRAFBCNf//////ueX+Wf////////NExA8TCyKsAAhOvKUtd+nrmT/Po9E0ShyI44x57o7W8089CBAcJkyImUZNcfGAiG5gLiIvOE4TgYAQcD8XAsB+HgoEI2CpE4vVa////r///////n1////17V7fnsci//NExBUSYxqsAAhOvaVvm6Z5s5TzB90lHYxknOdInKijqE0cuJQqBYNh8cFAjlRqI4aEsRgsc5cfAiCoPwdCSOpl/////Mpf5f//////r9v1pN/+pld5hiWYkrjxazWM//NExB4RCx60AABOvVNHmPYuwrZ1LEREImg7YUjIyLhXHRUNhoLSwpFYqISAKigHI8WGKm1GAAIgecXQUX/////5ZAe/X/I7//r//70+iolZ60f6oecqTXa77Oa9Tfcd//NExCwSAx68AChOvaGziyHKpj0JR1h0cKjxOcceikZziokBEICZI1a/V/CVI3AMCkd7ctUWBJRuVok0++kibv1N6p9PQ73VQoROkcPAAHPcgfdZBcYKFFuMbv6jL/TD//NExDcRcTKwAMtKcF5GZpZ/Knfrtcxt1hZoVsbX621Q0Z2L8+ZhoCuFHbWkQY97G7dSf//jX//rP/eb/SxEGyRhWiEwG22+hITj4xkKjZIDx8FBPLE6DVRo2FQyGHN///NExEQSgT6sAMxScPR///9iqLn/+FOpoEzqYQ3i+yYTqNqIgCB38RO/Kn7f//9/j65EioBycMAMEkSdokZJIk0yRJloCd4qAwvaEYqDAiDrn/v+n///+Trff1uo6xxs//NExE0RYVKwAMFMlDFajyXt1Wsg49B4ZbzTl85vo//E//B40OWqPQDoE8BjNIe1Umh7NzzrSLjxzc5zlXX+66/mHSfSCyHu////R3f4tX6zAS8DDOxB5NjjPaAot6xp//NExFoSKaasAMnWlDf8pfrNPzjfl/mAyN3ZIyAWDMnSyEI1ATOZJo9JRu/NOP+7n+aPShZ0k/61O//+p2rajcIK1ce1KGjkANqddE81B34pX/jbYIdt4d/upTl//pkq//NExGQRkbKsAKNUlP+j90kV9SzVaRqUx4C+CclBJkbSSNux8ojDH/qNv/R/////f+WfaIlqxIPVAMC0LxCdNmKZSHO3rDw4XAwbSV42+MnSU49B6GgwAywqnjnL6cLw//NExHARMVqoAVhoABZiaFm7o3axBMSWH8KddXL5Jm5cNGE6EpG4kh60l/N03oMgYFo4EY9Sj/1IF8vm5cLjR3JompcLxIkiQv/83TTNEEE09MvKNTyajN1H1/+kmCDs//NExH4hMnKUAZpoAAJYqHjgLFmVyy7Sp6swOVNNeOLNI+uUCBACAG8CJrUcqttcV42fnNxt32lUxt+/fzb8ePHjRcUpRjYH1PdcD8DnSxMzfU6Hm4+m1l++dQsUeKg7//NExEwfycaUAdp4ABrcVNhgUEF5m+8SfWKV1Ft9fOc4tj6hqzcazdCjBBIRNEnKPfrd/7BiW1ihsSCcInFviyqhwxlReQzjo3phFZtSUebm6EvjnHRILTmwcALFpFGR//NExB8aYaagANJYlFQoy7JOhUq5/YKXNisVmugaiWwiI+JA8hwvCMSTZecp/itZQlq/98PTASTElLKq86+bMz8707/5NK9LQAD4ja1Ul72f//7r6tFZKsMcGjjRUgtr//NExAgTET6sAMvScAJhvnRqZxZiAiQgAtJTyq9Wq6FZshzb3PNCkpvPVXUtqqzLzWmDgkKAxhxFMx1JVLZblfVaXlB3cmNZ3vrWW3f////6aqXOgLAUWkS1yG4k6RCc//NExA4UuTqcANZScKjBQQ5hhZKM2Gx1crs8/PM7UO2dWLdnWpx+wl9q7mqkRECEClQ8AweDUptRhcpNVUpVB9bM42ZDKX67tBVSZX/////614XmucE5j8KnBdo1LUEK//NExA4RWOaMAVkwAAKRSV0o0saXQDT73EX5vY0tLhmcS3tVenjyjPmXKJAIBJgoTGHEgqIjwllVhIKgq4S+92LvPKHqWqRlBKOGQmqMpsZEYweAkVBSfDIOLQcAqYq+//NExBsZalZ4AZs4AF5yx32oiSxwuoDgWi9qp3FgRi8RzDRtZDiKxLcThP+b6wDyhAXiIQ//xwHhAAghBx//+VJlhHEsH4lxL////KEEHGBAo45//6N8vZIXooAw7wjo//NExAgS8V6wAZhIAKWOOIjBx0Ui7UP8Us6N0oumonTl5XcX3CeVt06twg9z0PIEk9MtU/v9yjfya24n5yhfzIsb9/5Y+6LC54ja8dpGywytv1bCHcmUQz8uGsK5naC7//NExA8RyZakAdpQAKOUFRFh2kta5Vkff+R/5Uaamaroa1CV6BbLnBKAlZzxS8iH7zSDNIM8hQ00RDTyj6/377EAAT1VKsv9bJRh8vR0FuXagsZkA2I0hxqZF/KZWXMy//NExBoReTqoAM0acPPUVWzXm3P8+qmMJN1A2rTVO6B/TZ60cnOgmfNVh9pGRoiSKyTmf9H////VrbykBHDT2hE4EOvA7wwwB6QxAzU4TzpGoqGsdt3Jflv7O152bg4w//NExCcRUTqgAM0WcNFg3Zchic6MD06l/Ne+u4fzJqNLS1X9v/97////UlVkN6VEoERhESRuApkZ4IIwBUEMZUhdJxYlD8vq3IWlhlnZ13VDb59LXN9PEgzg4PIDoBYL//NExDQSQS6MAN5QcFMwnXgd09X61+vDD7Mv////////6dUcOCMCOiB5PEACVG4A5UAEbDBEget3CMw1qqsGNBtZ09n8auWtUk98VVFLJYdhDCIciIcjlitjyx08X8R4//NExD4SMSaEAN4QcMoSEf/6P////+ihijvMNMhiQklR+S1Mt7RpNepjBo4IHAEmiXTFY3AVkiKRiYayXeWEPF1iuaxAR4/3DjeMo9pWR2Jmi+xW4cq6sjk+HHX/+ZV///NExEgRoTp8ANyWcGGl8jueZMAqdFgBMopTXwsEg6HpjDOBPyAHTEtx1AHWVlUdieusvp5TzdAn0HQickH+HVKUKn8g4ZLD/kjnPdzHJM/9pNWZpuDE1qeD4g0qRowM//NExFQRkS6AANyQcD0+DAlz9RX/MQayexZZG0Pnfp8vgOR2M8K+9LYfUaTCwIH6GCT/f6UYUJAmQNCyygDB9P/tZ//EDv///Sqt9cqurf5XEAKZ7tvSIoQWNP4Oha7M//NExGASWOaYANZScDBJ79x7v7kHfr2u/flneQJ5gRAJiri5vjPk9RgvNFA2MaD4p/1IEYf/////+jqov4U4iHkyO9BgMNMeutIAE5UVLWHug5eBZpWGTk81dZWrU9Bn//NExGkRQPKoAM5QcMvNcT46QIgi6KR1O0P0fQ3FRXLPc3//9NSL//////6ljVXPj4GBwtqiWgEajMEiNRmmLxzbHKuYrNvUa3u93S+v/W9q3HIt5ANJCUg6GhgdnrVt//NExHcRaaakANNOlA693/4Spo/0KP9+v+xYfpciMMjw8TAkemvTcI8TaiuV2GGZ9G3/+QpFL///IVZl///+fmu///////5/iuO4j/6/4q/rjSaamG6LdcJHvTdIY+7x//NExIQSKMagAMPMcDRcSy8uOdyg4NEgiSQgNBK9rARh+hCGuHFCKhr/Nc//5bl/L//nv+v/I2////5//7/l31R3Z/v4/i42xNP/pksd7WXa7ON7WvP5MSo+eOQ1JZ5q//NExI4VUxaoAHhQuWKMQeXJTTVNAbShMHyeO4uLrFEuWJhIeanR0m0VDt///////////8p////9r/o30RTaX+jVoqvY0wyrnnmbK55UxjBu7Io+YqKa5QiNBMNRSaWF//NExIsVGyKgABBWvAIBFGRFLBOJQ6TFDDQIRUKyaqr/5Wv/9f//X/f//YXy////9////aV83X3x8/x/1xCy01bMbafbGRxYvoKFCUaQQYbajzzEHCEKiM5wPFh6HIKX//NExIkSCx6sABBOvQkEA8oqwah0IgtYmBuKIAUP//////+f/v5rb7/9uV/5qbr+1j7WLaHNUmpR11xhxNQSYDYY6iwtixQfCoesyisCEETh6HQRA2FRDCogixw0VgoM//NExJMT6xqsAAhQvYQmINUJImm/9///////5eX///z///8//P9fx///zXzp+1rVN/83cNf2y7KzNayqLWrHTA1mkcUPgWJGkB8SYCos0Whp1YsVEI1lNBdulMnPrrkY//NExJYRox6oAAgQvSZtRBkwAg7nELCAG7vPc9EJ78AEd3NJ3eJXRN+oXPLIw2bUy5w/1RBk52jbUYrJzj5o/4QXFBJEVvhc0aBiE10doxWgcRk6QoVC5sjJ5QUYxHsy//NExKIRYyJ4AGhQvDJyNsQBgkY9rt16UYnNG2ogIEDDf9z6iBi299o96jfggYQIIBGKSXPsp5aI6eiSW3uU0S9M6FFN3n/PDtr/G9FAS3bfus6Wpa9shM1d1AdMCstF//NExK8f+xaUAEjSuNJtrY55TjeJwaxhmKzKTSJdQsiDKjYhMCoVjrMl53hcwiXGE0kLBEKwZwFhKkieimhYDXyaEwiOsEL1m1cZIm2cluNpNIVyYVNNoCZFqVWiZ72u//NExIIiMwqcAEmSueQtLNtFaVqexA0fH+NLpZNG2xgbJ1Q3d+WV4/+5//z5zMSBCbpo3nqC7TKKrdtq3aK0stHhC+++jCZUPEQamkqFnJJQaHuRsnRv+p//Rf8GEEFI//NExEwRqTqoADJMcHTZT7bGi1P9C4r+wCWMe7Wc49ZrxbN6fjV1giElj5GIRw4AHBBGdQhloMMYe0ikGcEZAhM8fZgWvXTt0BQiTcupM2mQCYrLrB8fQ4s996VAAcJt//NExFgRcSqsAHvGcIRIJshq08RYlE9exuOJ2VA3bDR7NuCAHcQaxqPa/Dzn7KvttOhm3SD4UD6EVf9PFayM1WpB6wtSnWUAfvzT0udmH3J0yaxsGHefC+8bTcMcG5y3//NExGURWSK0AIPWcDlsNKu8kwfQIBdBGHDG3i3v97f9vcNUqrtfTVv5xAxTXusporx0rVU5nAQCqYkAest8GlNQ7kz8ylhdnTYhbcuqXUhnk78RZZF8AQVR+Cfwpc8j//NExHIRmSq0AIYecJHcOiLvDdS3w7/026/yy3111sICNy2U17rPxeylr8+qmPIe4Q0RIx7jH1PZagEEIhdXBgYY6lwjzR1aLWNC4Z5I8LochzU6B/DnUSTC1lDUtqyv//NExH4R8Rq0AIYecFS7zctZaiYbuANB3/FfqDLlKs/tgec+UYY6aXkHay4awTaLivy6APKEtbttDBZWA5E0zL404ApqcCAIolIJMQEBquUXZTumc61qbFn0q1anRPPd//NExIkRyR64AMYacP/V4pX747E3iUn5uOn5PyDKLB+EFRqHkvFsBTDmGAPSLcTJVl8VSMUCLYJw/lUVIRiFagMh3JRWdPbxR/S/37ctNu/tpn0raKXf/+rG6BLnm3gW//NExJQRGSq8AHvYcCqckDhVay5rMMv4ByHSjAlgmOFodyCenQZayvOBkdLByVowPnxkfCGex+x82rXbzNf6dtu9M261645Sjt/1dKqXtQYrRBLkOmp/nhzsHjdfBtlL//NExKISASq8AHvYcM4AwxDTlNsekyU4X40kerGZqUvGQ6Jz1EJcBGF6xacyyzT+ruZ8+9M73y7PM9kDPF3Kpsu/7l2JWG5g+WMtBk6KYSViltZTL8G4skbnEgS5GKaL//NExK0RiTK0AHvYcOuLjDElb18lKMiQpfWGwNQwj3hvlErX0aolOXFDc6NaoRGA6bd/9uyyi+qUywlGTlnI4rc38CSGQzLcm+oSFAGmNAMKmS6lE6Kco78TjtxRNJgi//NExLkSaTKsAHvYcLwurZ/lWjkZ/6JnOwpVpX///0vQoRQkecU2c9P6u7/mVTt0kgdYOiV9HP9172eeAMIAkATiQc8sJgozMkjM1yCUwd8UYwDGI1mY/47n+PiOOPaG//NExMIRwMKcAMYeTB9TMUsXfUc/b3cxzp9dPvEvYxZPY4vR7mYd7Sv3iJ6BuIECgfg3EeRIbiGLHA4SxZ5YuH5dqgUjGlmNdzKszeybOYj9LK6SKcERymZXTvY1ei5m//NExM4SEcaUAMJElCFCBAcx/53Jref/Xf+7fFsfG/n/es5i6hy7ccf0zeWX4pfW3nxFbK1hwY1d4mi73N9r0r+BPh3mM+q8nw41pNLbqyBdkN5KJ5WIQjUl4yIQk6j2//NExNgZyyKUAGBQvFWomNtXRTtp4NjdBr/+3/5r/5T+////7P///+l/3Si7K+2+1THsYsw67kjGU4xzmckx5skVaQMY40yaaVNOQTERKUYGgEwKjwOgLA8EkBwsQuEg//NExMMeqx6QACievWiCqVcN/7f/yz/////X////////66I/Y86fuy7HKxpqt1ZGaYc850Kli6GMJJFRqRoeYNyoiCwaioMlRFGBAjHI5Y8C4li0aAiLBw4OX//5n/////NExJsTAx6kABBOvPkH+b///v////siL/v9Pfoe13Rbdc1H1OUwcMXNaehpIkp5QVERuMjhESBKHBCOC8ZGhrg8E4+BUJR4MiI4uPxVCE/0//5/+bZ0Y0xgT+ev//////NExKISAyKgABBOvLf+sqX+yyfZyOilTD5hVF51JcgkdRUTFH1EinI5TO86kHmFBqw8oecSFyjUcrHKqFMKiosYLFRVFQGCSj/nHOcd//9SstSlClLCgRgolH6Glarf//NExK0R0xqkABBOvf////9HUv8t6P5vczmFAwESYyGcoCxlRnmcqOWyPo+jlZQEEBJpVjKpW/sYCelkNqRRK643lUwx12rZEBhYoaUMZLD1vceJorNoPsvdJujjbkJX//NExLgSkx6kABBKvBdS09DnJdC59ttbuYZKT2u6auSsilbUgGceSH10Kgg1wyKEZd6vdWqg/8Ycqq5UOu0+F/GceVCo3JA1KBJjqPpd0FZmPdGRiEHw6PGt3QYum5gJ//NExMASQwaEADiEuYG6wSEKANI5wDEHt/JdNM862EucYAfRPKf9VqfdMpj3MCifHuSw9R3CeK/+pmdt03uXiRHiOxySLpILLyKf//r16mZJkXbTSM0kzBEwJhsaGpcT//NExMoQSDJMAVgQAFAdSelDBjQF0pDpYF0qqHXFnukbD0O1A85yJrKSJ5qERbtqzzUmuTMl1XOaioVIgOTg2h5EcsH4ezrFSwd67HkpzDYwpREloS7p0qctm75UVWZN//NExNsiAypwAY9oAD9eTtn7qZptOhpqihoumYX4VPUyv+/ROQ+Of44jvb9S29GA4gNtuolhYsJitSsCQEhGfOT2Bc7Zc09bWVtprXptazf27cxszylKWyoJCygKAIsI//NExKYf2qqEAY9YAIdDp0GvUoOyp0SulYalj2oGgEHVqPA0Hf/EV/4KqokzbyjucSFEnIiYxKkBa7LtkRFVEozeS8ikd0MIoxAkorXKqIZkKJGmKyaGzGVtkSz9WmNE//NExHkQyQ5EAcwoAIYSWRuDsJFtYSeesTV0yW9OturWdRVmYCaHAyqTCgwrZVXYCAhR/qUDAQEpMzHsyrGZuMoCvAIUx/1YwYCUY9QNBoselQVAQNHpWIirnKDoaezO//NExIgSmbIEADDKlLr//1qetypZ5U71+G1MQU1FMy4xMDBVVVVVVVVVVVVVVVVVVVVVVVVVVVVVVVVVVVVVVVVVVVVVVVVVVVVVVVVVVVVVVVVVVVVVVVVVTEFNRTMu//NExJAScSXgABjGcDEwMFVVVVVVVVVVVVVVVVVVVVVVVVVVVVVVVVVVVVVVVVVVVVVVVVVVVVVVVVVVVVVVVVVVVVVVVVVVVVVVVVVVVVVVVVVVVVVVVVVVTEFNRTMu//NExJkAAANIAAAAADEwMFVVVVVVVVVVVVVVVVVVVVVVVVVVVVVVVVVVVVVVVVVVVVVVVVVVVVVVVVVVVVVVVVVVVVVVVVVVVVVVVVVVVVVVVVVVVVVVVVVVTEFNRTMu//NExKwAAANIAAAAADEwMFVVVVVVVVVVVVVVVVVVVVVVVVVVVVVVVVVVVVVVVVVVVVVVVVVVVVVVVVVVVVVVVVVVVVVVVVVVVVVVVVVVVVVVVVVVVVVVVVVVTEFNRTMu//NExKwAAANIAAAAADEwMFVVVVVVVVVVVVVVVVVVVVVVVVVVVVVVVVVVVVVVVVVVVVVVVVVVVVVVVVVVVVVVVVVVVVVVVVVVVVVVVVVVVVVVVVVVVVVVVVVVTEFNRTMu//NExKwAAANIAAAAADEwMFVVVVVVVVVVVVVVVVVVVVVVVVVVVVVVVVVVVVVVVVVVVVVVVVVVVVVVVVVVVVVVVVVVVVVVVVVVVVVVVVVVVVVVVVVVVVVVVVVVTEFNRTMu//NExKwAAANIAAAAADEwMFVVVVVVVVVVVVVVVVVVVVVVVVVVVVVVVVVVVVVVVVVVVVVVVVVVVVVVVVVVVVVVVVVVVVVVVVVVVVVVVVVVVVVVVVVVVVVVVVVVTEFNRTMu//NExKwAAANIAAAAADEwMFVVVVVVVVVVVVVVVVVVVVVVVVVVVVVVVVVVVVVVVVVVVVVVVVVVVVVVVVVVVVVVVVVVVVVVVVVVVVVVVVVVVVVVVVVVVVVVVVVVTEFNRTMu//NExKwAAANIAAAAADEwMFVVVVVVVVVVVVVVVVVVVVVVVVVVVVVVVVVVVVVVVVVVVVVVVVVVVVVVVVVVVVVVVVVVVVVVVVVVVVVVVVVVVVVVVVVVVVVVVVVVTEFNRTMu//NExKwAAANIAAAAADEwMFVVVVVVVVVVVVVVVVVVVVVVVVVVVVVVVVVVVVVVVVVVVVVVVVVVVVVVVVVVVVVVVVVVVVVVVVVVVVVVVVVVVVVVVVVVVVVVVVVVTEFNRTMu//NExKwAAANIAAAAADEwMFVVVVVVVVVVVVVVVVVVVVVVVVVVVVVVVVVVVVVVVVVVVVVVVVVVVVVVVVVVVVVVVVVVVVVVVVVVVVVVVVVVVVVVVVVVVVVVVVVVTEFNRTMu//NExKwAAANIAAAAADEwMFVVVVVVVVVVVVVVVVVVVVVVVVVVVVVVVVVVVVVVVVVVVVVVVVVVVVVVVVVVVVVVVVVVVVVVVVVVVVVVVVVVVVVVVVVVVVVVVVVVTEFNRTMu//NExKwAAANIAAAAADEwMFVVVVVVVVVVVVVVVVVVVVVVVVVVVVVVVVVVVVVVVVVVVVVVVVVVVVVVVVVVVVVVVVVVVVVVVVVVVVVVVVVVVVVVVVVVVVVVVVVVVVVVVVVV//NExKwAAANIAAAAAFVVVVVVVVVVVVVVVVVVVVVVVVVVVVVVVVVVVVVVVVVVVVVVVVVVVVVVVVVVVVVVVVVVVVVVVVVVVVVVVVVVVVVVVVVVVVVVVVVVVVVVVVVVVVVV//NExKwAAANIAAAAAFVVVVVVVVVVVVVVVVVVVVVVVVVVVVVVVVVVVVVVVVVVVVVVVVVVVVVVVVVVVVVVVVVVVVVVVVVVVVVVVVVVVVVVVVVVVVVVVVVVVVVVVVVVVVVV\" type=\"audio/mpeg\" />\n",
              "                    Your browser does not support the audio element.\n",
              "                </audio>\n",
              "              "
            ]
          },
          "metadata": {}
        }
      ]
    },
    {
      "cell_type": "markdown",
      "source": [
        "##Audio Question"
      ],
      "metadata": {
        "id": "AqVaDUdQtEzQ"
      }
    },
    {
      "cell_type": "code",
      "source": [
        "!pip install gradio\n",
        "\n",
        "import gradio as gr\n",
        "from gtts import gTTS\n",
        "import os\n",
        "\n",
        "def text_to_speech(text, language):\n",
        "    lang_code = 'en' if language == \"English\" else 'ko'\n",
        "    tts = gTTS(text=text, lang=lang_code, slow=False)\n",
        "    tts.save(\"output.mp3\")\n",
        "    return \"output.mp3\"\n",
        "\n",
        "interface = gr.Interface(\n",
        "    fn=text_to_speech,\n",
        "    inputs=[\n",
        "        gr.Textbox(lines=3, label=\"Enter text\"),\n",
        "        gr.Radio(choices=[\"English\", \"Korean\"], label=\"Select language\")\n",
        "    ],\n",
        "    outputs=gr.Audio(type=\"filepath\", label=\"Audio\"),\n",
        "    title=\"Text-to-Speech\",\n",
        "    description=\"Type in some text, select a language, and generate audio.\",\n",
        ")\n",
        "\n",
        "interface.launch()"
      ],
      "metadata": {
        "colab": {
          "base_uri": "https://localhost:8080/",
          "height": 1000
        },
        "id": "4SWqeBOLsGPZ",
        "outputId": "a44c7b1e-1cf9-4811-ce69-96cd32d0fb2d"
      },
      "execution_count": 3,
      "outputs": [
        {
          "output_type": "stream",
          "name": "stdout",
          "text": [
            "Collecting gradio\n",
            "  Downloading gradio-4.28.3-py3-none-any.whl (12.2 MB)\n",
            "\u001b[2K     \u001b[90m━━━━━━━━━━━━━━━━━━━━━━━━━━━━━━━━━━━━━━━━\u001b[0m \u001b[32m12.2/12.2 MB\u001b[0m \u001b[31m26.7 MB/s\u001b[0m eta \u001b[36m0:00:00\u001b[0m\n",
            "\u001b[?25hCollecting aiofiles<24.0,>=22.0 (from gradio)\n",
            "  Downloading aiofiles-23.2.1-py3-none-any.whl (15 kB)\n",
            "Requirement already satisfied: altair<6.0,>=4.2.0 in /usr/local/lib/python3.10/dist-packages (from gradio) (4.2.2)\n",
            "Collecting fastapi (from gradio)\n",
            "  Downloading fastapi-0.110.3-py3-none-any.whl (91 kB)\n",
            "\u001b[2K     \u001b[90m━━━━━━━━━━━━━━━━━━━━━━━━━━━━━━━━━━━━━━━━\u001b[0m \u001b[32m91.8/91.8 kB\u001b[0m \u001b[31m9.8 MB/s\u001b[0m eta \u001b[36m0:00:00\u001b[0m\n",
            "\u001b[?25hCollecting ffmpy (from gradio)\n",
            "  Downloading ffmpy-0.3.2.tar.gz (5.5 kB)\n",
            "  Preparing metadata (setup.py) ... \u001b[?25l\u001b[?25hdone\n",
            "Collecting gradio-client==0.16.0 (from gradio)\n",
            "  Downloading gradio_client-0.16.0-py3-none-any.whl (314 kB)\n",
            "\u001b[2K     \u001b[90m━━━━━━━━━━━━━━━━━━━━━━━━━━━━━━━━━━━━━━━━\u001b[0m \u001b[32m314.4/314.4 kB\u001b[0m \u001b[31m30.9 MB/s\u001b[0m eta \u001b[36m0:00:00\u001b[0m\n",
            "\u001b[?25hCollecting httpx>=0.24.1 (from gradio)\n",
            "  Downloading httpx-0.27.0-py3-none-any.whl (75 kB)\n",
            "\u001b[2K     \u001b[90m━━━━━━━━━━━━━━━━━━━━━━━━━━━━━━━━━━━━━━━━\u001b[0m \u001b[32m75.6/75.6 kB\u001b[0m \u001b[31m7.4 MB/s\u001b[0m eta \u001b[36m0:00:00\u001b[0m\n",
            "\u001b[?25hRequirement already satisfied: huggingface-hub>=0.19.3 in /usr/local/lib/python3.10/dist-packages (from gradio) (0.20.3)\n",
            "Requirement already satisfied: importlib-resources<7.0,>=1.3 in /usr/local/lib/python3.10/dist-packages (from gradio) (6.4.0)\n",
            "Requirement already satisfied: jinja2<4.0 in /usr/local/lib/python3.10/dist-packages (from gradio) (3.1.3)\n",
            "Requirement already satisfied: markupsafe~=2.0 in /usr/local/lib/python3.10/dist-packages (from gradio) (2.1.5)\n",
            "Requirement already satisfied: matplotlib~=3.0 in /usr/local/lib/python3.10/dist-packages (from gradio) (3.7.1)\n",
            "Requirement already satisfied: numpy~=1.0 in /usr/local/lib/python3.10/dist-packages (from gradio) (1.25.2)\n",
            "Collecting orjson~=3.0 (from gradio)\n",
            "  Downloading orjson-3.10.1-cp310-cp310-manylinux_2_17_x86_64.manylinux2014_x86_64.whl (141 kB)\n",
            "\u001b[2K     \u001b[90m━━━━━━━━━━━━━━━━━━━━━━━━━━━━━━━━━━━━━━━━\u001b[0m \u001b[32m141.1/141.1 kB\u001b[0m \u001b[31m12.3 MB/s\u001b[0m eta \u001b[36m0:00:00\u001b[0m\n",
            "\u001b[?25hRequirement already satisfied: packaging in /usr/local/lib/python3.10/dist-packages (from gradio) (24.0)\n",
            "Requirement already satisfied: pandas<3.0,>=1.0 in /usr/local/lib/python3.10/dist-packages (from gradio) (2.0.3)\n",
            "Requirement already satisfied: pillow<11.0,>=8.0 in /usr/local/lib/python3.10/dist-packages (from gradio) (9.4.0)\n",
            "Requirement already satisfied: pydantic>=2.0 in /usr/local/lib/python3.10/dist-packages (from gradio) (2.7.0)\n",
            "Collecting pydub (from gradio)\n",
            "  Downloading pydub-0.25.1-py2.py3-none-any.whl (32 kB)\n",
            "Collecting python-multipart>=0.0.9 (from gradio)\n",
            "  Downloading python_multipart-0.0.9-py3-none-any.whl (22 kB)\n",
            "Requirement already satisfied: pyyaml<7.0,>=5.0 in /usr/local/lib/python3.10/dist-packages (from gradio) (6.0.1)\n",
            "Collecting ruff>=0.2.2 (from gradio)\n",
            "  Downloading ruff-0.4.2-py3-none-manylinux_2_17_x86_64.manylinux2014_x86_64.whl (8.8 MB)\n",
            "\u001b[2K     \u001b[90m━━━━━━━━━━━━━━━━━━━━━━━━━━━━━━━━━━━━━━━━\u001b[0m \u001b[32m8.8/8.8 MB\u001b[0m \u001b[31m33.9 MB/s\u001b[0m eta \u001b[36m0:00:00\u001b[0m\n",
            "\u001b[?25hCollecting semantic-version~=2.0 (from gradio)\n",
            "  Downloading semantic_version-2.10.0-py2.py3-none-any.whl (15 kB)\n",
            "Collecting tomlkit==0.12.0 (from gradio)\n",
            "  Downloading tomlkit-0.12.0-py3-none-any.whl (37 kB)\n",
            "Collecting typer<1.0,>=0.12 (from gradio)\n",
            "  Downloading typer-0.12.3-py3-none-any.whl (47 kB)\n",
            "\u001b[2K     \u001b[90m━━━━━━━━━━━━━━━━━━━━━━━━━━━━━━━━━━━━━━━━\u001b[0m \u001b[32m47.2/47.2 kB\u001b[0m \u001b[31m4.6 MB/s\u001b[0m eta \u001b[36m0:00:00\u001b[0m\n",
            "\u001b[?25hRequirement already satisfied: typing-extensions~=4.0 in /usr/local/lib/python3.10/dist-packages (from gradio) (4.11.0)\n",
            "Requirement already satisfied: urllib3~=2.0 in /usr/local/lib/python3.10/dist-packages (from gradio) (2.0.7)\n",
            "Collecting uvicorn>=0.14.0 (from gradio)\n",
            "  Downloading uvicorn-0.29.0-py3-none-any.whl (60 kB)\n",
            "\u001b[2K     \u001b[90m━━━━━━━━━━━━━━━━━━━━━━━━━━━━━━━━━━━━━━━━\u001b[0m \u001b[32m60.8/60.8 kB\u001b[0m \u001b[31m5.9 MB/s\u001b[0m eta \u001b[36m0:00:00\u001b[0m\n",
            "\u001b[?25hRequirement already satisfied: fsspec in /usr/local/lib/python3.10/dist-packages (from gradio-client==0.16.0->gradio) (2023.6.0)\n",
            "Collecting websockets<12.0,>=10.0 (from gradio-client==0.16.0->gradio)\n",
            "  Downloading websockets-11.0.3-cp310-cp310-manylinux_2_5_x86_64.manylinux1_x86_64.manylinux_2_17_x86_64.manylinux2014_x86_64.whl (129 kB)\n",
            "\u001b[2K     \u001b[90m━━━━━━━━━━━━━━━━━━━━━━━━━━━━━━━━━━━━━━━━\u001b[0m \u001b[32m129.9/129.9 kB\u001b[0m \u001b[31m11.2 MB/s\u001b[0m eta \u001b[36m0:00:00\u001b[0m\n",
            "\u001b[?25hRequirement already satisfied: entrypoints in /usr/local/lib/python3.10/dist-packages (from altair<6.0,>=4.2.0->gradio) (0.4)\n",
            "Requirement already satisfied: jsonschema>=3.0 in /usr/local/lib/python3.10/dist-packages (from altair<6.0,>=4.2.0->gradio) (4.19.2)\n",
            "Requirement already satisfied: toolz in /usr/local/lib/python3.10/dist-packages (from altair<6.0,>=4.2.0->gradio) (0.12.1)\n",
            "Requirement already satisfied: anyio in /usr/local/lib/python3.10/dist-packages (from httpx>=0.24.1->gradio) (3.7.1)\n",
            "Requirement already satisfied: certifi in /usr/local/lib/python3.10/dist-packages (from httpx>=0.24.1->gradio) (2024.2.2)\n",
            "Collecting httpcore==1.* (from httpx>=0.24.1->gradio)\n",
            "  Downloading httpcore-1.0.5-py3-none-any.whl (77 kB)\n",
            "\u001b[2K     \u001b[90m━━━━━━━━━━━━━━━━━━━━━━━━━━━━━━━━━━━━━━━━\u001b[0m \u001b[32m77.9/77.9 kB\u001b[0m \u001b[31m6.9 MB/s\u001b[0m eta \u001b[36m0:00:00\u001b[0m\n",
            "\u001b[?25hRequirement already satisfied: idna in /usr/local/lib/python3.10/dist-packages (from httpx>=0.24.1->gradio) (3.7)\n",
            "Requirement already satisfied: sniffio in /usr/local/lib/python3.10/dist-packages (from httpx>=0.24.1->gradio) (1.3.1)\n",
            "Collecting h11<0.15,>=0.13 (from httpcore==1.*->httpx>=0.24.1->gradio)\n",
            "  Downloading h11-0.14.0-py3-none-any.whl (58 kB)\n",
            "\u001b[2K     \u001b[90m━━━━━━━━━━━━━━━━━━━━━━━━━━━━━━━━━━━━━━━━\u001b[0m \u001b[32m58.3/58.3 kB\u001b[0m \u001b[31m5.4 MB/s\u001b[0m eta \u001b[36m0:00:00\u001b[0m\n",
            "\u001b[?25hRequirement already satisfied: filelock in /usr/local/lib/python3.10/dist-packages (from huggingface-hub>=0.19.3->gradio) (3.13.4)\n",
            "Requirement already satisfied: requests in /usr/local/lib/python3.10/dist-packages (from huggingface-hub>=0.19.3->gradio) (2.31.0)\n",
            "Requirement already satisfied: tqdm>=4.42.1 in /usr/local/lib/python3.10/dist-packages (from huggingface-hub>=0.19.3->gradio) (4.66.2)\n",
            "Requirement already satisfied: contourpy>=1.0.1 in /usr/local/lib/python3.10/dist-packages (from matplotlib~=3.0->gradio) (1.2.1)\n",
            "Requirement already satisfied: cycler>=0.10 in /usr/local/lib/python3.10/dist-packages (from matplotlib~=3.0->gradio) (0.12.1)\n",
            "Requirement already satisfied: fonttools>=4.22.0 in /usr/local/lib/python3.10/dist-packages (from matplotlib~=3.0->gradio) (4.51.0)\n",
            "Requirement already satisfied: kiwisolver>=1.0.1 in /usr/local/lib/python3.10/dist-packages (from matplotlib~=3.0->gradio) (1.4.5)\n",
            "Requirement already satisfied: pyparsing>=2.3.1 in /usr/local/lib/python3.10/dist-packages (from matplotlib~=3.0->gradio) (3.1.2)\n",
            "Requirement already satisfied: python-dateutil>=2.7 in /usr/local/lib/python3.10/dist-packages (from matplotlib~=3.0->gradio) (2.8.2)\n",
            "Requirement already satisfied: pytz>=2020.1 in /usr/local/lib/python3.10/dist-packages (from pandas<3.0,>=1.0->gradio) (2023.4)\n",
            "Requirement already satisfied: tzdata>=2022.1 in /usr/local/lib/python3.10/dist-packages (from pandas<3.0,>=1.0->gradio) (2024.1)\n",
            "Requirement already satisfied: annotated-types>=0.4.0 in /usr/local/lib/python3.10/dist-packages (from pydantic>=2.0->gradio) (0.6.0)\n",
            "Requirement already satisfied: pydantic-core==2.18.1 in /usr/local/lib/python3.10/dist-packages (from pydantic>=2.0->gradio) (2.18.1)\n",
            "Requirement already satisfied: click>=8.0.0 in /usr/local/lib/python3.10/dist-packages (from typer<1.0,>=0.12->gradio) (8.1.7)\n",
            "Collecting shellingham>=1.3.0 (from typer<1.0,>=0.12->gradio)\n",
            "  Downloading shellingham-1.5.4-py2.py3-none-any.whl (9.8 kB)\n",
            "Requirement already satisfied: rich>=10.11.0 in /usr/local/lib/python3.10/dist-packages (from typer<1.0,>=0.12->gradio) (13.7.1)\n",
            "Collecting starlette<0.38.0,>=0.37.2 (from fastapi->gradio)\n",
            "  Downloading starlette-0.37.2-py3-none-any.whl (71 kB)\n",
            "\u001b[2K     \u001b[90m━━━━━━━━━━━━━━━━━━━━━━━━━━━━━━━━━━━━━━━━\u001b[0m \u001b[32m71.9/71.9 kB\u001b[0m \u001b[31m6.4 MB/s\u001b[0m eta \u001b[36m0:00:00\u001b[0m\n",
            "\u001b[?25hRequirement already satisfied: attrs>=22.2.0 in /usr/local/lib/python3.10/dist-packages (from jsonschema>=3.0->altair<6.0,>=4.2.0->gradio) (23.2.0)\n",
            "Requirement already satisfied: jsonschema-specifications>=2023.03.6 in /usr/local/lib/python3.10/dist-packages (from jsonschema>=3.0->altair<6.0,>=4.2.0->gradio) (2023.12.1)\n",
            "Requirement already satisfied: referencing>=0.28.4 in /usr/local/lib/python3.10/dist-packages (from jsonschema>=3.0->altair<6.0,>=4.2.0->gradio) (0.34.0)\n",
            "Requirement already satisfied: rpds-py>=0.7.1 in /usr/local/lib/python3.10/dist-packages (from jsonschema>=3.0->altair<6.0,>=4.2.0->gradio) (0.18.0)\n",
            "Requirement already satisfied: six>=1.5 in /usr/local/lib/python3.10/dist-packages (from python-dateutil>=2.7->matplotlib~=3.0->gradio) (1.16.0)\n",
            "Requirement already satisfied: markdown-it-py>=2.2.0 in /usr/local/lib/python3.10/dist-packages (from rich>=10.11.0->typer<1.0,>=0.12->gradio) (3.0.0)\n",
            "Requirement already satisfied: pygments<3.0.0,>=2.13.0 in /usr/local/lib/python3.10/dist-packages (from rich>=10.11.0->typer<1.0,>=0.12->gradio) (2.16.1)\n",
            "Requirement already satisfied: exceptiongroup in /usr/local/lib/python3.10/dist-packages (from anyio->httpx>=0.24.1->gradio) (1.2.1)\n",
            "Requirement already satisfied: charset-normalizer<4,>=2 in /usr/local/lib/python3.10/dist-packages (from requests->huggingface-hub>=0.19.3->gradio) (3.3.2)\n",
            "Requirement already satisfied: mdurl~=0.1 in /usr/local/lib/python3.10/dist-packages (from markdown-it-py>=2.2.0->rich>=10.11.0->typer<1.0,>=0.12->gradio) (0.1.2)\n",
            "Building wheels for collected packages: ffmpy\n",
            "  Building wheel for ffmpy (setup.py) ... \u001b[?25l\u001b[?25hdone\n",
            "  Created wheel for ffmpy: filename=ffmpy-0.3.2-py3-none-any.whl size=5584 sha256=e1cca38ca1e72b43e223011e28edfae7ff6acd17b4838343c8cfc73831dc4f58\n",
            "  Stored in directory: /root/.cache/pip/wheels/bd/65/9a/671fc6dcde07d4418df0c592f8df512b26d7a0029c2a23dd81\n",
            "Successfully built ffmpy\n",
            "Installing collected packages: pydub, ffmpy, websockets, tomlkit, shellingham, semantic-version, ruff, python-multipart, orjson, h11, aiofiles, uvicorn, starlette, httpcore, typer, httpx, fastapi, gradio-client, gradio\n",
            "  Attempting uninstall: typer\n",
            "    Found existing installation: typer 0.9.4\n",
            "    Uninstalling typer-0.9.4:\n",
            "      Successfully uninstalled typer-0.9.4\n",
            "\u001b[31mERROR: pip's dependency resolver does not currently take into account all the packages that are installed. This behaviour is the source of the following dependency conflicts.\n",
            "spacy 3.7.4 requires typer<0.10.0,>=0.3.0, but you have typer 0.12.3 which is incompatible.\n",
            "weasel 0.3.4 requires typer<0.10.0,>=0.3.0, but you have typer 0.12.3 which is incompatible.\u001b[0m\u001b[31m\n",
            "\u001b[0mSuccessfully installed aiofiles-23.2.1 fastapi-0.110.3 ffmpy-0.3.2 gradio-4.28.3 gradio-client-0.16.0 h11-0.14.0 httpcore-1.0.5 httpx-0.27.0 orjson-3.10.1 pydub-0.25.1 python-multipart-0.0.9 ruff-0.4.2 semantic-version-2.10.0 shellingham-1.5.4 starlette-0.37.2 tomlkit-0.12.0 typer-0.12.3 uvicorn-0.29.0 websockets-11.0.3\n",
            "Setting queue=True in a Colab notebook requires sharing enabled. Setting `share=True` (you can turn this off by setting `share=False` in `launch()` explicitly).\n",
            "\n",
            "Colab notebook detected. To show errors in colab notebook, set debug=True in launch()\n",
            "Running on public URL: https://5e5f2371038fb309f8.gradio.live\n",
            "\n",
            "This share link expires in 72 hours. For free permanent hosting and GPU upgrades, run `gradio deploy` from Terminal to deploy to Spaces (https://huggingface.co/spaces)\n"
          ]
        },
        {
          "output_type": "display_data",
          "data": {
            "text/plain": [
              "<IPython.core.display.HTML object>"
            ],
            "text/html": [
              "<div><iframe src=\"https://5e5f2371038fb309f8.gradio.live\" width=\"100%\" height=\"500\" allow=\"autoplay; camera; microphone; clipboard-read; clipboard-write;\" frameborder=\"0\" allowfullscreen></iframe></div>"
            ]
          },
          "metadata": {}
        },
        {
          "output_type": "execute_result",
          "data": {
            "text/plain": []
          },
          "metadata": {},
          "execution_count": 3
        }
      ]
    },
    {
      "cell_type": "markdown",
      "source": [
        "##Countown Question"
      ],
      "metadata": {
        "id": "f82BC7W6uC_V"
      }
    },
    {
      "cell_type": "code",
      "source": [
        "import gradio as gr\n",
        "from datetime import datetime\n",
        "\n",
        "def countdown(target_date):\n",
        "    try:\n",
        "        # Parse the user input date\n",
        "        date_format = \"%Y-%m-%d\"\n",
        "        future_date = datetime.strptime(target_date, date_format)\n",
        "\n",
        "        # Get the current time\n",
        "        now = datetime.now()\n",
        "\n",
        "        # Calculate the difference between the future date and the current time\n",
        "        countdown = future_date - now\n",
        "\n",
        "        # Generate the countdown message\n",
        "        if countdown.days >= 0:\n",
        "            return f\"{target_date}까지 남은 시간: \\n {countdown.days} 일, {countdown.seconds//3600} 시간, {(countdown.seconds//60)%60} 분.\"\n",
        "        else:\n",
        "            return \"지정된 날짜가 이미 지났습니다.\"\n",
        "    except ValueError:\n",
        "        return \"날짜를 in YYYY-MM-DD 형식으로 입력해주세요.\"\n",
        "\n",
        "# Create the Gradio interface\n",
        "interface = gr.Interface(\n",
        "    fn=countdown,\n",
        "    inputs=gr.Text(label=\"미래 날짜를 입력하세요. (e.g., 2024-12-25)\"),\n",
        "    outputs=\"text\",\n",
        "    title=\"날짜 카운트다운\",\n",
        "    description=\"지정된 날짜까지 남은 일, 시간, 분을 확인하려면 날짜를 입력하세요.\"\n",
        ")\n",
        "\n",
        "interface.launch()"
      ],
      "metadata": {
        "colab": {
          "base_uri": "https://localhost:8080/",
          "height": 649
        },
        "id": "jad76drwxNvw",
        "outputId": "d45d2fa1-ec54-438e-b135-277de97f9389"
      },
      "execution_count": 12,
      "outputs": [
        {
          "output_type": "stream",
          "name": "stdout",
          "text": [
            "Setting queue=True in a Colab notebook requires sharing enabled. Setting `share=True` (you can turn this off by setting `share=False` in `launch()` explicitly).\n",
            "\n",
            "Colab notebook detected. To show errors in colab notebook, set debug=True in launch()\n",
            "Running on public URL: https://c475fcaa6ba36deef5.gradio.live\n",
            "\n",
            "This share link expires in 72 hours. For free permanent hosting and GPU upgrades, run `gradio deploy` from Terminal to deploy to Spaces (https://huggingface.co/spaces)\n"
          ]
        },
        {
          "output_type": "display_data",
          "data": {
            "text/plain": [
              "<IPython.core.display.HTML object>"
            ],
            "text/html": [
              "<div><iframe src=\"https://c475fcaa6ba36deef5.gradio.live\" width=\"100%\" height=\"500\" allow=\"autoplay; camera; microphone; clipboard-read; clipboard-write;\" frameborder=\"0\" allowfullscreen></iframe></div>"
            ]
          },
          "metadata": {}
        },
        {
          "output_type": "execute_result",
          "data": {
            "text/plain": []
          },
          "metadata": {},
          "execution_count": 12
        }
      ]
    }
  ]
}